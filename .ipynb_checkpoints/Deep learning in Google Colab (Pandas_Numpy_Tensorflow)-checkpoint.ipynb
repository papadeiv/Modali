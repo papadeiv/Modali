{
 "cells": [
  {
   "cell_type": "markdown",
   "metadata": {
    "colab_type": "text",
    "id": "6-piGCZXMLtq"
   },
   "source": [
    "# Google Colaboratoy"
   ]
  },
  {
   "cell_type": "markdown",
   "metadata": {
    "colab_type": "text",
    "id": "U7QDkNsCErXp"
   },
   "source": [
    "__Google Collaboratory__  exploits the Google Cloud to perform the calculations necessary for the computational chart to be implemented.\n",
    "Google Colab is a Jupyter notebook environment that runs entirely in the cloud thus requiring no setup onto the (local) working machine whilst at the same time providing all of the powerful computing resources (e.g. full access to Google's GPUs and TPUs).\n",
    "\n",
    "Google Colab is built on top of Jupyter notebook but it has some differences. Just like Jupyter there are both code cells and markdown cells for text; below are some of the hot-keys\n",
    "* `Ctrl+M+H` to edit short-cut settings;\n",
    "* `Ctrl+Enter` to execute a code cell;\n",
    "* `Shit+Enter` to execute a markdown cell;\n",
    "* `Ctrl+M+B` to add a code cell below;\n",
    "* `Ctrl+M+D` to delete the current cell. \n",
    "\n",
    "Colab uses `marked.js` and so it is similar but not quite identical to the markdown used by Jupyter and Github.\n",
    "The biggest differences are that Colaboratory supports (MathJax)  LATEX  equations like Jupyter, but does not allow HTML tags in the markdown unlike most other markdowns."
   ]
  },
  {
   "cell_type": "markdown",
   "metadata": {
    "colab_type": "text",
    "id": "h9QuxQaw-T8g"
   },
   "source": [
    "### Google Drive integration\n",
    "\n",
    "Google Colab interacts with Google Drive where it is possible to store, access and share the notebooks created on Jupyter or Google Colab; also the Google Drive `New` menu allows to create a Colab notebook from scratch.\n",
    " __Warning:__ of course being Colab a cloud-based framework means that computational resources are shared among all the users connected to it; as such, should you leave your notebook unused for too long the session will time-out and the `Runtime` disconnect.\n",
    "\n",
    "The fact that Jupyter notebooks can be open, accessed, modified, shared or even created in Google Colab using Google Drive __doesn't means__ that Colab accesses any file in the Drive automatically; if one has a database of pictures to train a DNNs for Image Classification saved on Google Drive and it wants to run it on Colab then it must first _\"mount the drive\"_ as shown below."
   ]
  },
  {
   "cell_type": "code",
   "execution_count": null,
   "metadata": {
    "colab": {},
    "colab_type": "code",
    "id": "9rh-Qis2STaY"
   },
   "outputs": [],
   "source": [
    "from google.colab import drive\n",
    "drive.mount('/content/drive')\n",
    "!ls \"/content/drive/My Drive\""
   ]
  },
  {
   "cell_type": "markdown",
   "metadata": {
    "colab_type": "text",
    "id": "Tdb0KX4nSVYO"
   },
   "source": [
    "### File upload\n",
    "\n",
    "Within the interactive environment one can simply upload those files to the runtime session using the `Files` tab on the left-hand side, or alternatively upload said files manually by simply using the traditional Python `file.upload`"
   ]
  },
  {
   "cell_type": "code",
   "execution_count": null,
   "metadata": {
    "colab": {},
    "colab_type": "code",
    "id": "E_fHyqTxQn5R"
   },
   "outputs": [],
   "source": [
    "from google.colab import files\n",
    "uploaded=files.upload()"
   ]
  },
  {
   "cell_type": "markdown",
   "metadata": {
    "colab_type": "text",
    "id": "hRZTZWAOQ5oZ"
   },
   "source": [
    "### GitHub interaction\n",
    "\n",
    "Alongside Google Drive, Colab allows for clean __GitHub__ integration including loading and saving its notebook on the remote repos.\n",
    "\n",
    "Any `.ipynb` notebook saved in a GitHub repo is uploaded in Colab in one of the two equivalent ways:\n",
    "\n",
    "* internally in Colab by selecting `File`->`Upload notebook`->`GitHub` and then simply paste the GitHub URL for the notebook file;\n",
    "\n",
    "* directly from GitHub by using the `Open in Colab` Chrome extension while being at the URL of the desired notebook.\n",
    "\n",
    "The notebooks opened in Colab from GitHub won't overwrite the source one in the repo when saved; if one wishes to do so then it must give permission to Colab to `push` the `commit` to the master repo.\n",
    "This achieved by selecting `File`->`Save a copy in Drive`->`Save a copy to GitHub` and then following the prompt from there."
   ]
  },
  {
   "cell_type": "markdown",
   "metadata": {
    "colab_type": "text",
    "id": "tRmPQEekThpS"
   },
   "source": [
    "# NumPy\n",
    "\n",
    "NumPy is a library that enables high-performance vector-matrix manipulation: its main data object is the `ndarray` inteded as a colletion of items of the same type and it is indexed via a traditional integer-increasing 0-convention. It can be initialized in several different ways the most common being by using a Python `list` or `tuple` and by using placeholders"
   ]
  },
  {
   "cell_type": "code",
   "execution_count": null,
   "metadata": {
    "colab": {},
    "colab_type": "code",
    "id": "V-Vxl-k0UNi_"
   },
   "outputs": [],
   "source": [
    "import numpy as np\n",
    "\n",
    "a = [1,2,3,4] # Python list\n",
    "a1 = np.array(a) # initialization by list\n",
    "a2 = np.array([(1.5,2,3), (4,5,6)]) # inizialization by conversion of sequences\n",
    "a3 = np.zeros((2,3)) # inizialization by placeholder of zeros\n",
    "a4 = np.empty((2,3)) # uninitialized placeholder"
   ]
  },
  {
   "cell_type": "markdown",
   "metadata": {
    "colab_type": "text",
    "id": "xAzG0tWzWNXs"
   },
   "source": [
    "NumPy arrays elements' are accessed via their labelled index much like traditional Python `list` and sequences; of course multidimensional arrays have multiple indeces, one for each axis"
   ]
  },
  {
   "cell_type": "code",
   "execution_count": null,
   "metadata": {
    "colab": {
     "base_uri": "https://localhost:8080/",
     "height": 153
    },
    "colab_type": "code",
    "executionInfo": {
     "elapsed": 577,
     "status": "ok",
     "timestamp": 1593875652843,
     "user": {
      "displayName": "Davide Papapicco",
      "photoUrl": "https://lh3.googleusercontent.com/a-/AOh14Gj8TXMLqV3lhiEHKUIs1XYWguH7RSLYV1FPyxZaNA=s64",
      "userId": "07585067399160685573"
     },
     "user_tz": -120
    },
    "id": "5oIediGBWbNR",
    "outputId": "cb3b282a-c173-4898-f53f-1288726c3183"
   },
   "outputs": [
    {
     "name": "stdout",
     "output_type": "stream",
     "text": [
      "2\n",
      "6.0\n",
      "[[10 11 12 13]\n",
      " [20 21 22 23]\n",
      " [30 31 32 33]]\n",
      "[20 21 22 23]\n",
      "21\n",
      "[ 1 11 21 31 41]\n"
     ]
    }
   ],
   "source": [
    "print(a1[1])\n",
    "print(a2[1,2])\n",
    "a5 = np.array([[ 0,  1,  2,  3],\n",
    "       [10, 11, 12, 13],\n",
    "       [20, 21, 22, 23],\n",
    "       [30, 31, 32, 33],\n",
    "       [40, 41, 42, 43]])\n",
    "print(a5[1:4])\n",
    "print(a5[1:4][1])\n",
    "print(a5[1:4][1][1])\n",
    "print(a5[:,1])"
   ]
  },
  {
   "cell_type": "markdown",
   "metadata": {
    "colab_type": "text",
    "id": "oCyqcktPb2uC"
   },
   "source": [
    "## Useful operations in NumPy\n"
   ]
  },
  {
   "cell_type": "markdown",
   "metadata": {
    "colab_type": "text",
    "id": "fBLsbWoYcD4j"
   },
   "source": [
    "* Creation of higher-dimensional array by nesting lists"
   ]
  },
  {
   "cell_type": "code",
   "execution_count": null,
   "metadata": {
    "colab": {
     "base_uri": "https://localhost:8080/",
     "height": 136
    },
    "colab_type": "code",
    "executionInfo": {
     "elapsed": 617,
     "status": "ok",
     "timestamp": 1593878546922,
     "user": {
      "displayName": "Davide Papapicco",
      "photoUrl": "https://lh3.googleusercontent.com/a-/AOh14Gj8TXMLqV3lhiEHKUIs1XYWguH7RSLYV1FPyxZaNA=s64",
      "userId": "07585067399160685573"
     },
     "user_tz": -120
    },
    "id": "EdLlVpAScHhV",
    "outputId": "4b649332-06c0-4aa2-b0cc-18a7de886189"
   },
   "outputs": [
    {
     "name": "stdout",
     "output_type": "stream",
     "text": [
      "[[2 4]\n",
      " [6 8]]\n"
     ]
    },
    {
     "data": {
      "text/plain": [
       "array([[[1, 2],\n",
       "        [3, 4]],\n",
       "\n",
       "       [[5, 6],\n",
       "        [7, 8]]], dtype=int32)"
      ]
     },
     "execution_count": 46,
     "metadata": {
      "tags": []
     },
     "output_type": "execute_result"
    }
   ],
   "source": [
    "tensor = np.array([ [[1,2],[3,4]] , [[5,6],[7,8]] ], dtype='int32')\n",
    "print(tensor[:,:,1])\n",
    "tensor"
   ]
  },
  {
   "cell_type": "markdown",
   "metadata": {
    "colab_type": "text",
    "id": "LTvXaBQDdMNO"
   },
   "source": [
    "* Get dimension and shape of the array"
   ]
  },
  {
   "cell_type": "code",
   "execution_count": null,
   "metadata": {
    "colab": {
     "base_uri": "https://localhost:8080/",
     "height": 51
    },
    "colab_type": "code",
    "executionInfo": {
     "elapsed": 556,
     "status": "ok",
     "timestamp": 1593878424556,
     "user": {
      "displayName": "Davide Papapicco",
      "photoUrl": "https://lh3.googleusercontent.com/a-/AOh14Gj8TXMLqV3lhiEHKUIs1XYWguH7RSLYV1FPyxZaNA=s64",
      "userId": "07585067399160685573"
     },
     "user_tz": -120
    },
    "id": "PGGzF0itdPTf",
    "outputId": "b7574145-d748-47ed-ba62-90117395f290"
   },
   "outputs": [
    {
     "name": "stdout",
     "output_type": "stream",
     "text": [
      "3\n",
      "(2, 2, 2)\n"
     ]
    }
   ],
   "source": [
    "print(tensor.ndim)\n",
    "print(tensor.shape)"
   ]
  },
  {
   "cell_type": "markdown",
   "metadata": {
    "colab_type": "text",
    "id": "SzuJXqrceM2j"
   },
   "source": [
    "* Replace slices of array with other arrays"
   ]
  },
  {
   "cell_type": "code",
   "execution_count": null,
   "metadata": {
    "colab": {
     "base_uri": "https://localhost:8080/",
     "height": 272
    },
    "colab_type": "code",
    "executionInfo": {
     "elapsed": 567,
     "status": "ok",
     "timestamp": 1593879029671,
     "user": {
      "displayName": "Davide Papapicco",
      "photoUrl": "https://lh3.googleusercontent.com/a-/AOh14Gj8TXMLqV3lhiEHKUIs1XYWguH7RSLYV1FPyxZaNA=s64",
      "userId": "07585067399160685573"
     },
     "user_tz": -120
    },
    "id": "7w-ktfPJk61Y",
    "outputId": "ee61bc0b-dece-4f01-dde0-d9e3b3d50339"
   },
   "outputs": [
    {
     "name": "stdout",
     "output_type": "stream",
     "text": [
      "[[0. 0. 0. 0. 0.]\n",
      " [0. 0. 0. 0. 0.]\n",
      " [0. 0. 0. 0. 0.]\n",
      " [0. 0. 0. 0. 0.]\n",
      " [0. 0. 0. 0. 0.]]\n",
      "[[0. 0. 0. 0. 0.]\n",
      " [0. 1. 1. 1. 0.]\n",
      " [0. 1. 1. 1. 0.]\n",
      " [0. 1. 1. 1. 0.]\n",
      " [0. 0. 0. 0. 0.]]\n",
      "[[0. 0. 0. 0. 0.]\n",
      " [0. 1. 1. 1. 0.]\n",
      " [0. 1. 0. 1. 0.]\n",
      " [0. 1. 1. 1. 0.]\n",
      " [0. 0. 0. 0. 0.]]\n"
     ]
    }
   ],
   "source": [
    "A = np.zeros((5,5))\n",
    "print(A)\n",
    "B = np.ones((3,3))\n",
    "A[1:4,1:4] = B\n",
    "print(A)\n",
    "A[2,2] = 0\n",
    "print(A)"
   ]
  },
  {
   "cell_type": "markdown",
   "metadata": {
    "colab_type": "text",
    "id": "JrO75rhalc8K"
   },
   "source": [
    "* High-level mathematical operations"
   ]
  },
  {
   "cell_type": "code",
   "execution_count": null,
   "metadata": {
    "colab": {
     "base_uri": "https://localhost:8080/",
     "height": 221
    },
    "colab_type": "code",
    "executionInfo": {
     "elapsed": 650,
     "status": "ok",
     "timestamp": 1593879838607,
     "user": {
      "displayName": "Davide Papapicco",
      "photoUrl": "https://lh3.googleusercontent.com/a-/AOh14Gj8TXMLqV3lhiEHKUIs1XYWguH7RSLYV1FPyxZaNA=s64",
      "userId": "07585067399160685573"
     },
     "user_tz": -120
    },
    "id": "1IpyDuu_lurW",
    "outputId": "b03b33d6-1bbd-4953-9baf-9b16ed4bdba3"
   },
   "outputs": [
    {
     "name": "stdout",
     "output_type": "stream",
     "text": [
      "[-1 -2 -2 -4]\n",
      "[ 1  4  4 16]\n",
      "[3 4 4 6]\n",
      "[ 3  6  6 12]\n",
      "[ 0.54030231 -0.41614684 -0.41614684 -0.65364362]\n",
      "[[ 1.          2.          2.          4.        ]\n",
      " [-1.         -2.         -2.         -4.        ]\n",
      " [ 2.          4.          4.          8.        ]\n",
      " [ 0.84147098  0.90929743  0.90929743 -0.7568025 ]]\n",
      "[ 1.        -4.         2.        -0.7568025]\n",
      "[-1. -2. -2. -4.]\n",
      "-2.0\n"
     ]
    }
   ],
   "source": [
    "a = np.array([1,2,2,4])\n",
    "print(a*-1)\n",
    "print(a**2)\n",
    "print(a+2)\n",
    "print(a+2*a)\n",
    "print(np.cos(a))\n",
    "A = np.array([a,-1*a,2*a,np.sin(a)])\n",
    "print(A)\n",
    "print(np.min(A,axis=1))\n",
    "print(np.min(A,axis=0))\n",
    "print(np.min(A[:,1],axis=0))"
   ]
  },
  {
   "cell_type": "markdown",
   "metadata": {
    "colab_type": "text",
    "id": "cC4wkBxYlv1n"
   },
   "source": [
    "* Reshaping and stacking"
   ]
  },
  {
   "cell_type": "code",
   "execution_count": null,
   "metadata": {
    "colab": {
     "base_uri": "https://localhost:8080/",
     "height": 204
    },
    "colab_type": "code",
    "executionInfo": {
     "elapsed": 531,
     "status": "ok",
     "timestamp": 1593880037100,
     "user": {
      "displayName": "Davide Papapicco",
      "photoUrl": "https://lh3.googleusercontent.com/a-/AOh14Gj8TXMLqV3lhiEHKUIs1XYWguH7RSLYV1FPyxZaNA=s64",
      "userId": "07585067399160685573"
     },
     "user_tz": -120
    },
    "id": "ErrQ1hdHl2D6",
    "outputId": "851e14db-9ce3-4612-bdfe-f62b7c18891b"
   },
   "outputs": [
    {
     "name": "stdout",
     "output_type": "stream",
     "text": [
      "[[1.  2.  2.  4. ]\n",
      " [2.  4.  4.  8. ]\n",
      " [0.5 1.  1.  2. ]]\n",
      "(3, 4)\n",
      "[[1.  2. ]\n",
      " [2.  4. ]\n",
      " [2.  4. ]\n",
      " [4.  8. ]\n",
      " [0.5 1. ]\n",
      " [1.  2. ]]\n",
      "(6, 2)\n"
     ]
    }
   ],
   "source": [
    "before = np.array([a,2*a,a-0.5*a])\n",
    "print(before)\n",
    "print(before.shape)\n",
    "after = before.reshape((6,2))\n",
    "print(after)\n",
    "print(after.shape)"
   ]
  },
  {
   "cell_type": "code",
   "execution_count": null,
   "metadata": {
    "colab": {
     "base_uri": "https://localhost:8080/",
     "height": 68
    },
    "colab_type": "code",
    "executionInfo": {
     "elapsed": 578,
     "status": "ok",
     "timestamp": 1593880191177,
     "user": {
      "displayName": "Davide Papapicco",
      "photoUrl": "https://lh3.googleusercontent.com/a-/AOh14Gj8TXMLqV3lhiEHKUIs1XYWguH7RSLYV1FPyxZaNA=s64",
      "userId": "07585067399160685573"
     },
     "user_tz": -120
    },
    "id": "uvCMHVNEp8VX",
    "outputId": "b440ae4e-7eb6-4500-ac77-f96704f91c6b"
   },
   "outputs": [
    {
     "name": "stdout",
     "output_type": "stream",
     "text": [
      "[[ 0  1 -1  5]\n",
      " [ 0 -1  1 -5]]\n",
      "[ 0  1 -1  5  0 -1  1 -5]\n"
     ]
    }
   ],
   "source": [
    "a = np.array([0,1,-1,5])\n",
    "print(np.vstack([a,-1*a]))\n",
    "print(np.hstack([a,-1*a]))"
   ]
  },
  {
   "cell_type": "markdown",
   "metadata": {
    "colab_type": "text",
    "id": "5o4UIOXOqd8I"
   },
   "source": [
    "* Basic i/o on files"
   ]
  },
  {
   "cell_type": "code",
   "execution_count": null,
   "metadata": {
    "colab": {},
    "colab_type": "code",
    "id": "azq0nQWSqkJ7"
   },
   "outputs": [],
   "source": [
    "filedata = np.genfromtxt('file.txt', delimiter='\\;')\n",
    "filedata = filedata.astype('int32')"
   ]
  },
  {
   "cell_type": "markdown",
   "metadata": {
    "colab_type": "text",
    "id": "Iz4KhBBIQWZX"
   },
   "source": [
    "# Pandas\n",
    "\n",
    "Pandas is a package for data manipulation that uses the DataFrame objects from R (as well as different R packages) in a Python environment. The `series` object is the primary building block of pandas. A `series` represents a one-dimensional labeled indexed array based on the NumPy `ndarray`. Like an array, a `series` can hold zero or more values of any single data type; it can be created and initialized by passing either a scalar value, a NumPy `ndarray`, a Python `list`, or a Python `Dict` as the data parameter of the `series` constructor."
   ]
  },
  {
   "cell_type": "code",
   "execution_count": null,
   "metadata": {
    "colab": {},
    "colab_type": "code",
    "id": "ZZZjQalfSiKG"
   },
   "outputs": [],
   "source": [
    "import pandas as pd\n",
    "\n",
    "s1 = pd.Series([1,2,3,4]) # series initialized by list\n",
    "s2 = "
   ]
  },
  {
   "cell_type": "markdown",
   "metadata": {
    "colab_type": "text",
    "id": "hAyftwMZS5BE"
   },
   "source": [
    "Differently from NumPy arrays, whose elements are accesed by their (integer) indexed position (starting from 0), a pandas's `series` index can be customized."
   ]
  },
  {
   "cell_type": "markdown",
   "metadata": {
    "colab_type": "text",
    "id": "CRRax11-fDBx"
   },
   "source": [
    "## Useful operation on DataFrame"
   ]
  },
  {
   "cell_type": "markdown",
   "metadata": {
    "colab_type": "text",
    "id": "ddYgrl62fLf7"
   },
   "source": [
    "* Read and store a `csv` file into a `dataframe`"
   ]
  },
  {
   "cell_type": "code",
   "execution_count": null,
   "metadata": {
    "colab": {},
    "colab_type": "code",
    "id": "IAoco7_8fWd6"
   },
   "outputs": [],
   "source": [
    "df = pd.read_csv('database.csv')\n",
    "# df = pd.read_excel('database.xlsx')"
   ]
  },
  {
   "cell_type": "markdown",
   "metadata": {
    "colab_type": "text",
    "id": "y_C-uNWufaGX"
   },
   "source": [
    "* Basic i/o on dataframe"
   ]
  },
  {
   "cell_type": "code",
   "execution_count": null,
   "metadata": {
    "colab": {},
    "colab_type": "code",
    "id": "9Yd_EQj9gI2-"
   },
   "outputs": [],
   "source": [
    "df.head(4) # print first 4 rows\n",
    "df.iloc[5:15] # print rows from 5 to 15\n",
    "df.tail(3) # print last 3 rows"
   ]
  },
  {
   "cell_type": "code",
   "execution_count": null,
   "metadata": {
    "colab": {},
    "colab_type": "code",
    "id": "r1xqSlb2fiRU"
   },
   "outputs": [],
   "source": [
    "df.columns # print the headers of the columns (features and labels)\n",
    "features = ['Team season','Last seas. QBR','Label (Record)']\n",
    "df[features][0:15] # print specific features (columns) from row 0 to row 15\n",
    "df.loc[df['Last seas. QBR'] == 90.0] # access only rows of dataset whose x4 column has value 90.0\n",
    "df['Bias'] = df.iloc[:, 2:8].sum(axis=1) # create new feature (column) as half the sum of the previous ones\n",
    "df.drop(columns=['Bias']) # delete the aforementioned column\n",
    "df.loc[df['Team season'].str.contains('NE|SF', regex=True)] # filters out all the rows that contain 'NE' or 'SF' in their first column\n",
    "labels = df.pop('Label (Record)') # extract one column from the dataframe into a single array\n",
    "df.to_csv('training set.csv', index=False) # saves the dataframe into a new csv file (check the files repo on the left hand side of google colab)"
   ]
  },
  {
   "cell_type": "markdown",
   "metadata": {
    "colab_type": "text",
    "id": "Q85tiuUChXfQ"
   },
   "source": [
    "* Check types"
   ]
  },
  {
   "cell_type": "code",
   "execution_count": null,
   "metadata": {
    "colab": {},
    "colab_type": "code",
    "id": "6R3bqmTthZsx"
   },
   "outputs": [],
   "source": [
    "print(labels.dtypes)\n",
    "print(df.dtypes)"
   ]
  },
  {
   "cell_type": "markdown",
   "metadata": {
    "colab_type": "text",
    "id": "2UnqEzAXh1LR"
   },
   "source": [
    "* High-level operations"
   ]
  },
  {
   "cell_type": "code",
   "execution_count": null,
   "metadata": {
    "colab": {},
    "colab_type": "code",
    "id": "N5n0wCzAh3ky"
   },
   "outputs": [],
   "source": [
    "print(df['SOS'].max())\n",
    "print (df['SOS'].min())\n",
    "print(df.loc[df['Last seas. QBR'] >= 120.0])\n",
    "df.loc[df['Last seas. QBR'] >= 120.0] = df.loc[df['Last seas. QBR'] >= 120.0]*0.5\n",
    "print(df.loc[df['Last seas. QBR'] >= 120.0])"
   ]
  },
  {
   "cell_type": "markdown",
   "metadata": {
    "colab_type": "text",
    "id": "_bZyLbhOP7Yf"
   },
   "source": [
    "# Tensorflow"
   ]
  },
  {
   "cell_type": "markdown",
   "metadata": {
    "colab_type": "text",
    "id": "nyrRgj8eErXh"
   },
   "source": [
    "TensorFlow is a Google-developed open-source software library (platform) for numerical computation, differentiable programming and machine learning applications. It bundles together a comprehensive and flexible ecosystem of machine learning algorithms with emphasis on deep learning techniques; being a cross-platform programming framework means that TensorFlow can run on (virtually) any CPU, GPU or even TPU\n",
    "\n",
    "It provides Python, C++, Java etc front-end APIs for building applications with the framework while its core executes those applications in the back-ground with high-performance C++. On top of the front-ends it sits a structure of abstraction layers APIs that provide a simpler interface for commonly used ML models especially in deep learning. The tip of the mountain is where the __Canned estimators__ sit, ready-to-train machine learning models and algorithms in a box.\n",
    "\n",
    "![alt text](https://static.javatpoint.com/tutorial/tensorflow/images/tensorflow-api-2.png)\n"
   ]
  },
  {
   "cell_type": "markdown",
   "metadata": {
    "colab_type": "text",
    "id": "wMhbBH45ErXl"
   },
   "source": [
    "For a more comprehensive consultation of Neural Networks and TensorFlow material refer to the following links:\n",
    "* introductory guide to [NNs principles and architectures](https://neuralnetworksanddeeplearning.com/); \n",
    "* advance theoretical topics on [Neural Networks' mathematics](https://colah.github.io/);\n",
    "* TensorFlow tutorials from [beginners](https://www.tensorflow.org/tutorials) to [professionals](https://www.javatpoint.com/tensorflow) including a guide on [its tools](https://www.tensorflow.org/resources/tools);\n",
    "* [visualization tools](https://tensorspace.org/) for NNs architectures and classification boundaries.\n",
    "\n",
    "![alt text](https://1.bp.blogspot.com/-XLebiZ3qt8o/XDwxlrGK_8I/AAAAAAAAGaw/PHnps1WR8NMCU7X_Hu717DdJLSwGU8T3ACPcBGAYYCw/s1600/neuron.png)"
   ]
  },
  {
   "cell_type": "markdown",
   "metadata": {
    "colab_type": "text",
    "id": "2Za9hGhx4ENJ"
   },
   "source": [
    "There are several ways to feed data (sampled from a given dataset) into a `keras` model in tensorflow; in the following we will summarize the simplest two to implement\n"
   ]
  },
  {
   "cell_type": "markdown",
   "metadata": {
    "colab_type": "text",
    "id": "JpEL7VVa4vOw"
   },
   "source": [
    "## Input as NumPy array from pandas DataFrame"
   ]
  },
  {
   "cell_type": "markdown",
   "metadata": {
    "colab_type": "text",
    "id": "HneTmtnd5GVo"
   },
   "source": [
    "* File upload from Google Colab files"
   ]
  },
  {
   "cell_type": "code",
   "execution_count": null,
   "metadata": {
    "colab": {},
    "colab_type": "code",
    "id": "pCOgcr7I5PAS"
   },
   "outputs": [],
   "source": [
    "from google.colab import files \n",
    "uploaded = files.upload()"
   ]
  },
  {
   "cell_type": "markdown",
   "metadata": {
    "colab_type": "text",
    "id": "wGCa3SDB5Tc2"
   },
   "source": [
    "* Conversion of the file into a pandas DataFrame"
   ]
  },
  {
   "cell_type": "code",
   "execution_count": null,
   "metadata": {
    "colab": {},
    "colab_type": "code",
    "id": "P4dLuxv3-Hfm"
   },
   "outputs": [],
   "source": [
    "import pandas as pd\n",
    "\n",
    "spreadsheet = 'database.xlsx'\n",
    "data = pd.read_excel(spreadsheet)"
   ]
  },
  {
   "cell_type": "markdown",
   "metadata": {
    "colab_type": "text",
    "id": "4J2wTlOf-KTi"
   },
   "source": [
    "* Splitting the features from the labels into separate lists: this can be done in three different ways\n",
    "\n",
    "  * 1) By exporting different parts of the dataset into separate lists;\n",
    "  * 2) By filtering out the labels from the dataset and subsequentially dropping them for the features;\n",
    "  * 3) By popping-out the labels from the dataset."
   ]
  },
  {
   "cell_type": "code",
   "execution_count": null,
   "metadata": {
    "colab": {},
    "colab_type": "code",
    "id": "qzzTiWUX-TP7"
   },
   "outputs": [],
   "source": [
    "# Method 1)\n",
    "\n",
    "features = ['1xrecord','2xrecord','3xrecord','QBR','PO','TO','SOS']\n",
    "datapoints = data[features]\n",
    "labels = data['Record']"
   ]
  },
  {
   "cell_type": "code",
   "execution_count": null,
   "metadata": {
    "colab": {},
    "colab_type": "code",
    "id": "JvNxpWCcZd8h"
   },
   "outputs": [],
   "source": [
    "# Method 2)\n",
    "\n",
    "labels = data.filter(['Record'])\n",
    "datapoints = data.drop(columns = ['Record'])"
   ]
  },
  {
   "cell_type": "code",
   "execution_count": null,
   "metadata": {
    "colab": {},
    "colab_type": "code",
    "id": "0iyGjdMUaAiY"
   },
   "outputs": [],
   "source": [
    "# Method 3)\n",
    "\n",
    "labels = data.pop('Record')\n",
    "datapoints = data.copy()"
   ]
  },
  {
   "cell_type": "markdown",
   "metadata": {
    "colab_type": "text",
    "id": "mpFQg8fUU_hq"
   },
   "source": [
    "* Convert any possible non-numerical feature or label (those whose data-type is `object`)"
   ]
  },
  {
   "cell_type": "code",
   "execution_count": null,
   "metadata": {
    "colab": {},
    "colab_type": "code",
    "id": "hesirfFZVMmy"
   },
   "outputs": [],
   "source": [
    "labels.replace('cat', 1, inplace=True)\n",
    "labels.replace('dog', 0, inplace=True)\n",
    "\n",
    "datapoints = pd.get_dummies(datapoints)"
   ]
  },
  {
   "cell_type": "markdown",
   "metadata": {
    "colab_type": "text",
    "id": "IylwxkRMa8po"
   },
   "source": [
    "* Creation of training, validation and test set"
   ]
  },
  {
   "cell_type": "code",
   "execution_count": null,
   "metadata": {
    "colab": {},
    "colab_type": "code",
    "id": "zhhj3JPKbCpl"
   },
   "outputs": [],
   "source": [
    "datapoints = datapoints.values.astype('float32')\n",
    "labels = labels.values.astype('float32')\n",
    "\n",
    "x_train, x_test, y_train, y_test = train_test_split(datapoints, labels, test_size=0.2)\n",
    "x_train, x_val, y_train, y_val = train_test_split(x_train, y_train, test_size=0.2)"
   ]
  },
  {
   "cell_type": "markdown",
   "metadata": {
    "colab_type": "text",
    "id": "ILAzX0FOcG7j"
   },
   "source": [
    "* Conversion of pandas lists into NumPy arrays"
   ]
  },
  {
   "cell_type": "code",
   "execution_count": null,
   "metadata": {
    "colab": {},
    "colab_type": "code",
    "id": "8c63JphW-0ZV"
   },
   "outputs": [],
   "source": [
    "import numpy as np\n",
    "\n",
    "x_train, y_train = np.array(x_train), np.array(y_train)\n",
    "x_test, y_test = np.array(x_test), np.array(y_test)\n",
    "x_val, y_val = np.array(x_val), np.array(y_val)\n",
    "N = x_train.shape[0] # number of (input) datapoints\n",
    "D = x_train.shape[1] # number of (dimensions) features"
   ]
  },
  {
   "cell_type": "markdown",
   "metadata": {
    "colab_type": "text",
    "id": "xdRmlAQYbFb1"
   },
   "source": [
    "* Build the model"
   ]
  },
  {
   "cell_type": "code",
   "execution_count": null,
   "metadata": {
    "colab": {},
    "colab_type": "code",
    "id": "2zgOuhIabE3Z"
   },
   "outputs": [],
   "source": [
    "import tensorflow as tf\n",
    "from tensorflow import keras\n",
    "from keras.models import Sequential\n",
    "from keras.layers import Dense\n",
    "\n",
    "model.Sequential()\n",
    "model.add(Dense(D, input_shape=(D,)))\n",
    "model.add(Dense(11), activation='sigmoid')\n",
    "model.add(Dense(5), activation='relu')\n",
    "model.add(Dense(3), activation='relu')\n",
    "model.add(Dense(1), activation='softmax')"
   ]
  },
  {
   "cell_type": "markdown",
   "metadata": {
    "colab_type": "text",
    "id": "InV5jmyTbEaM"
   },
   "source": [
    "* Compile the model"
   ]
  },
  {
   "cell_type": "code",
   "execution_count": null,
   "metadata": {
    "colab": {},
    "colab_type": "code",
    "id": "BzQJC4K4fHmT"
   },
   "outputs": [],
   "source": [
    "learning_algorithm = keras.optimizers.RMSprop(0.001)\n",
    "model.compile(loss='mse', optimizer=learning_algorithm, metrics=['accuracy'])\n",
    "model.summary()"
   ]
  },
  {
   "cell_type": "markdown",
   "metadata": {
    "colab_type": "text",
    "id": "6CZH7Sc0g1g8"
   },
   "source": [
    "* Training and testing"
   ]
  },
  {
   "cell_type": "code",
   "execution_count": null,
   "metadata": {
    "colab": {},
    "colab_type": "code",
    "id": "FRyn7PZkg3mN"
   },
   "outputs": [],
   "source": [
    "model.fit(x_train, y_train, validation_data = zip(x_val, y_val), batch_size = 0.1*N, epochs = 10)\n",
    "y = model.predict(x_test)\n",
    "performance = np.sqrt(np.mean(((y-y_test)**2))) # RMSE\n",
    "\n",
    "# Alternative\n",
    "# model.evaluate(x_test, y_test)"
   ]
  },
  {
   "cell_type": "markdown",
   "metadata": {
    "colab_type": "text",
    "id": "3kFuBEur-6l-"
   },
   "source": [
    "## Input pipeline of feature columns through tensorflow Dataset"
   ]
  },
  {
   "cell_type": "markdown",
   "metadata": {
    "colab_type": "text",
    "id": "dhDM205PA0to"
   },
   "source": [
    "* File upload from Google Colab files"
   ]
  },
  {
   "cell_type": "code",
   "execution_count": null,
   "metadata": {
    "colab": {},
    "colab_type": "code",
    "id": "UIHgYOHMBosl"
   },
   "outputs": [],
   "source": [
    "from google.colab import files \n",
    "uploaded = files.upload()"
   ]
  },
  {
   "cell_type": "markdown",
   "metadata": {
    "colab_type": "text",
    "id": "RgD3DUzoCUEn"
   },
   "source": [
    "* Conversion of the file into a pandas DataFrame"
   ]
  },
  {
   "cell_type": "code",
   "execution_count": null,
   "metadata": {
    "colab": {},
    "colab_type": "code",
    "id": "D-WtppA7CVyF"
   },
   "outputs": [],
   "source": [
    "import pandas as pd\n",
    "import numpy as np\n",
    "\n",
    "spreadsheet = 'database.xlsx'\n",
    "data = pd.read_excel(spreadsheet)"
   ]
  },
  {
   "cell_type": "markdown",
   "metadata": {
    "colab_type": "text",
    "id": "cJ1F5PjPB5r2"
   },
   "source": [
    "* Split the dataset into train, test and validation set"
   ]
  },
  {
   "cell_type": "code",
   "execution_count": null,
   "metadata": {
    "colab": {},
    "colab_type": "code",
    "id": "uaEVsA2iB9b_"
   },
   "outputs": [],
   "source": [
    "from sklearn.model_selection import train_test_split\n",
    "\n",
    "train, test = train_test_split(data, test_size=0.2)"
   ]
  },
  {
   "cell_type": "markdown",
   "metadata": {
    "colab_type": "text",
    "id": "W7ctEj-5CHLP"
   },
   "source": [
    "* Wrapping the Dataframe with a tensorflow Dataset "
   ]
  },
  {
   "cell_type": "code",
   "execution_count": null,
   "metadata": {
    "colab": {},
    "colab_type": "code",
    "id": "9f2_tUbaDUkA"
   },
   "outputs": [],
   "source": [
    "import tensorflow as tf\n",
    "\n",
    "def wrapper(data, shuffle=True, batch_size=32):\n",
    "  data = data.copy()\n",
    "  labels = data.pop('Record')\n",
    "  dataset = tf.data.Dataset.from_tensor_slices((dict(data), labels))\n",
    "  if shuffle:\n",
    "    dataset = dataset.shuffle(buffer_size=len(data))\n",
    "  dataset = dataset.batch(batch_size)\n",
    "  return dataset"
   ]
  },
  {
   "cell_type": "markdown",
   "metadata": {
    "colab_type": "text",
    "id": "Q37ORuY9EUT9"
   },
   "source": [
    "* Creation of training and test set"
   ]
  },
  {
   "cell_type": "code",
   "execution_count": null,
   "metadata": {
    "colab": {},
    "colab_type": "code",
    "id": "Htix1FtpEr7i"
   },
   "outputs": [],
   "source": [
    "trainset = wrapper(train)\n",
    "testset = wrapper(test, shuffle=False)"
   ]
  },
  {
   "cell_type": "markdown",
   "metadata": {
    "colab_type": "text",
    "id": "ykIslLyfG3sy"
   },
   "source": [
    "* Creation of (numeric) feature columns"
   ]
  },
  {
   "cell_type": "code",
   "execution_count": null,
   "metadata": {
    "colab": {},
    "colab_type": "code",
    "id": "EgoXTEBcG_uC"
   },
   "outputs": [],
   "source": [
    "features = ['1xrecord','2xrecord','3xrecord','QBR','PO','TO','SOS']\n",
    "feature_columns = []\n",
    "\n",
    "for header in features:\n",
    "  feature_columns.append(feature_column.numeric_column(header))"
   ]
  },
  {
   "cell_type": "markdown",
   "metadata": {
    "colab_type": "text",
    "id": "tTattSWEHST-"
   },
   "source": [
    "* Creation of a feature (input) layer"
   ]
  },
  {
   "cell_type": "code",
   "execution_count": null,
   "metadata": {
    "colab": {},
    "colab_type": "code",
    "id": "TKYN9FkIHS1W"
   },
   "outputs": [],
   "source": [
    "from tensorflow import keras\n",
    "\n",
    "input_layer = keras.layers.DenseFeatures(feature_columns)"
   ]
  },
  {
   "cell_type": "markdown",
   "metadata": {
    "colab_type": "text",
    "id": "fe_ZzBX-H0Cj"
   },
   "source": [
    "* Build the model"
   ]
  },
  {
   "cell_type": "code",
   "execution_count": null,
   "metadata": {
    "colab": {},
    "colab_type": "code",
    "id": "8WFLQLX5HzVd"
   },
   "outputs": [],
   "source": [
    "model = keras.Sequential([\n",
    "  input_layer,\n",
    "  layers.Dense(128, activation='relu'),\n",
    "  layers.Dense(128, activation='sigmoid'),\n",
    "  layers.Dense(1)\n",
    "])\n",
    "\n",
    "model.compile(optimizer='sgd',\n",
    "              loss = keras.losses.BinaryCrossentropy(from_logits=True),\n",
    "              metrics=['mae', 'mse'])"
   ]
  },
  {
   "cell_type": "markdown",
   "metadata": {
    "colab_type": "text",
    "id": "U0WfLnW5IPIF"
   },
   "source": [
    "* Training and testing"
   ]
  },
  {
   "cell_type": "code",
   "execution_count": null,
   "metadata": {
    "colab": {},
    "colab_type": "code",
    "id": "YNdyZnoNITDE"
   },
   "outputs": [],
   "source": [
    "model.fit(trainset, validation_split = 0.2, epochs=5)\n",
    "performance = model.evaluate(testset)\n",
    "print(\"Accuracy\", performance)"
   ]
  }
 ],
 "metadata": {
  "colab": {
   "collapsed_sections": [
    "tRmPQEekThpS",
    "Iz4KhBBIQWZX"
   ],
   "name": "Deep learning in Google Colab (Pandas/Numpy/Tensorflow).ipynb",
   "provenance": [],
   "toc_visible": true
  },
  "kernelspec": {
   "display_name": "Python 3 (ipykernel)",
   "language": "python",
   "name": "python3"
  },
  "language_info": {
   "codemirror_mode": {
    "name": "ipython",
    "version": 3
   },
   "file_extension": ".py",
   "mimetype": "text/x-python",
   "name": "python",
   "nbconvert_exporter": "python",
   "pygments_lexer": "ipython3",
   "version": "3.8.12"
  }
 },
 "nbformat": 4,
 "nbformat_minor": 1
}
